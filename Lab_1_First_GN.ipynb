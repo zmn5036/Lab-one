{
  "nbformat": 4,
  "nbformat_minor": 0,
  "metadata": {
    "colab": {
      "name": "Lab 1 First GN.ipynb",
      "provenance": [],
      "toc_visible": true,
      "authorship_tag": "ABX9TyMDPFKl7gz1wSQA7xNZfJOi",
      "include_colab_link": true
    },
    "kernelspec": {
      "name": "python3",
      "display_name": "Python 3"
    }
  },
  "cells": [
    {
      "cell_type": "markdown",
      "metadata": {
        "id": "view-in-github",
        "colab_type": "text"
      },
      "source": [
        "<a href=\"https://colab.research.google.com/github/zmn5036/Lab-one/blob/master/Lab_1_First_GN.ipynb\" target=\"_parent\"><img src=\"https://colab.research.google.com/assets/colab-badge.svg\" alt=\"Open In Colab\"/></a>"
      ]
    },
    {
      "cell_type": "markdown",
      "metadata": {
        "id": "cadBDaGnhZY2",
        "colab_type": "text"
      },
      "source": [
        "# Do you like using Jupyter Notebooks?"
      ]
    },
    {
      "cell_type": "markdown",
      "metadata": {
        "id": "mTwhK_LkhnKJ",
        "colab_type": "text"
      },
      "source": [
        "#### Although it is brand new to me, I definitely like the interface of it. Having the code and text option right there is clearly an efficient spot."
      ]
    },
    {
      "cell_type": "markdown",
      "metadata": {
        "id": "4kOErM1uiSbl",
        "colab_type": "text"
      },
      "source": [
        "# What do you want to learn more about in Jupyter Notebooks?"
      ]
    },
    {
      "cell_type": "markdown",
      "metadata": {
        "id": "EZJtULgDjEn_",
        "colab_type": "text"
      },
      "source": [
        "#### I am pretty excited to integrate code and text together. Also I am just excited to further my education with it, considering I will see it again."
      ]
    },
    {
      "cell_type": "markdown",
      "metadata": {
        "id": "8YFRZIUTnuDU",
        "colab_type": "text"
      },
      "source": [
        "![future sky](https://raw.githubusercontent.com/zmn5036/Lab-one/master/images/IMG_1178.JPG)\n"
      ]
    }
  ]
}